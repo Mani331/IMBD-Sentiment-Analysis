{
 "cells": [
  {
   "cell_type": "markdown",
   "metadata": {},
   "source": [
    "# Imdb sentiment analysis\n",
    "\n",
    "**Télécharger le dataset à cette adresse : http://ai.stanford.edu/~amaas/data/sentiment/ et extraire l'archive.**"
   ]
  },
  {
   "cell_type": "markdown",
   "metadata": {},
   "source": [
    "This is a dataset for binary sentiment classification containing substantially more data than previous benchmark datasets. We provide a set of 25,000 highly polar movie reviews for training, and 25,000 for testing. There is additional unlabeled data for use as well. Raw text and already processed bag of words formats are provided. See the README file contained in the release for more details."
   ]
  },
  {
   "cell_type": "code",
   "execution_count": 8,
   "metadata": {},
   "outputs": [],
   "source": [
    "import os\n",
    "from os import listdir\n",
    "import pandas as pd\n",
    "import numpy as np"
   ]
  },
  {
   "cell_type": "markdown",
   "metadata": {},
   "source": [
    "______"
   ]
  },
  {
   "cell_type": "code",
   "execution_count": 138,
   "metadata": {},
   "outputs": [],
   "source": [
    "#test"
   ]
  },
  {
   "cell_type": "code",
   "execution_count": 9,
   "metadata": {},
   "outputs": [],
   "source": [
    "test_neg = r\"C:\\Users\\amnad\\Documents\\DATA_IA\\PYTHON\\NLP\\aclImdb\\test\\neg\"\n",
    "test_pos = r\"C:\\Users\\amnad\\Documents\\DATA_IA\\PYTHON\\NLP\\aclImdb\\test\\pos\""
   ]
  },
  {
   "cell_type": "code",
   "execution_count": 3,
   "metadata": {},
   "outputs": [],
   "source": [
    "#train"
   ]
  },
  {
   "cell_type": "code",
   "execution_count": 10,
   "metadata": {},
   "outputs": [],
   "source": [
    "train_pos = r\"C:\\Users\\amnad\\Documents\\DATA_IA\\PYTHON\\NLP\\aclImdb\\train\\pos\"\n",
    "train_neg = r\"C:\\Users\\amnad\\Documents\\DATA_IA\\PYTHON\\NLP\\aclImdb\\train\\neg\""
   ]
  },
  {
   "cell_type": "markdown",
   "metadata": {},
   "source": [
    "______"
   ]
  },
  {
   "cell_type": "code",
   "execution_count": 142,
   "metadata": {},
   "outputs": [],
   "source": [
    "#negative reviews"
   ]
  },
  {
   "cell_type": "code",
   "execution_count": 11,
   "metadata": {},
   "outputs": [],
   "source": [
    "import random"
   ]
  },
  {
   "cell_type": "code",
   "execution_count": 12,
   "metadata": {},
   "outputs": [],
   "source": [
    "def neg_review(nbr):\n",
    "    list_neg = []\n",
    "    for i in range(nbr):\n",
    "        filename = random.choice(os.listdir(train_neg))\n",
    "        review = open(train_neg + '/' + filename, \"r\", encoding=\"utf8\").read() #\"r\" Read mode which is used when the file is only being read \n",
    "        list_neg.append(i)\n",
    "        print(\"~> \" + review + \"\\n\")"
   ]
  },
  {
   "cell_type": "code",
   "execution_count": 8,
   "metadata": {},
   "outputs": [
    {
     "name": "stdout",
     "output_type": "stream",
     "text": [
      "~> Absolutely the most boring movie I have ever spent my money on.This was a wrong choice for all these great stars to waste their reputations on. Boring! boring! boring! Each character was portrayed in a less than inspirational way. No acting talent shown -just reading a part. Alec can play realistic characters normally, Gwynyth made herself look ugly for an unrewarding part, Annette needs advise on how to pick the movies she chooses to play in as do all these big stars who have left me disappointed at the way they have all allowed their talents to be smothered in a feature that leaves much to be desired in entertainment. \"Running with scissors\" leads the public to anticipate great acting in a film that suggests experiencing tension and deep emotion. There was not one moment when the cast was able to portray any interpretation of this onto the screen. Maybe it was the director's fault----whatever.\n",
      "\n",
      "~> I saw the movie late one night on cable and could not believe how bad it was. I usually enjoy bad movies, but this one was so revolting that it wasn't even entertaining. Some of the highlights of this film include the absurd music which is constantly playing throughout the movie, the hideous special effects (when someone is shot with a laser gun they turn neon green and promptly disintegrate), and the disgusting acting. The acting, in fact, is what I feel steals the show. I didn't recognize any of the actors in the movie, and I hope that I never have to see any of them again. Overall, I recommend renting this movie (if you can find it; I can't imagine a video store carrying this garbage) just so that you can learn to appreciate quality films after seeing this trash.\n",
      "\n",
      "~> Two years before he wrote and directed \"Arthur\", Steve Gordon had a minor hit with his screenplay for this crackpot comedic vehicle for Henry Winkler, then TV's \"The Fonz\". A 1950s college thespian (and all-around jerk) woos a co-ed and gets married without any employment prospects on the horizon; to make ends meet, he turns to the flamboyant world of wrestling, eventually becoming a \"Gorgeous George\"-like celebrity. Turning likable Winkler into an obnoxious goof-off probably sounded like an interesting idea at the time (and a sure way to separate him from his television alter-ego), but the jokes and situations are often wrong-headed and mean, staged rather sloppily by director Carl Reiner. Particularly crude is a wincing bit involving Hervé Villechaize (of \"Fantasy Island\") putting the moves on Polly Holliday (Flo from \"Alice\"). As Henry's beloved, Kim Darby looks a little out of her element--particularly when surrounded by all these TV hams--rendering the romance aspect of the script inconsequential. *1/2 from ****\n",
      "\n",
      "~> Miraculously, this is actually quite watchable. I mean, it's bad. It's really bad. But whereas the original was so-bad-it's-ruining-my-life bad, this is so-bad-it's-mildly-entertaining bad. Right, that's enough faint praise. Production values are rotten across the board, the acting is excruciating and the Romero-wannabe satire can't make its mind up which side of the ecology fence it's mocking. Internal logic takes a back seat to heads propelling themselves out of fridges, virus incubation times fluctuating as the 'plot' requires, bullets working against the zombies or not, zombies having the power of speech or not. Gore is the draw, obviously, but the framework is so slapdash it's annoying. The dialogue sounds like it's been translated by the same computers that mangle instruction manuals, and the scale of the zombie infestation is implied with none of the ingenuity of Romero's films. It's all topped off with a horrendous synth score. Absolute rubbish.\n",
      "\n",
      "~> This is the worst movie ever made. The acting, the script, the location, everything! I would have given it a little chance if there were attractive women in the movie, but even they were bad. You would think that a movie with the word \"beach\" in it's title would have good-looking women in it. Wouldn't you?\n",
      "\n"
     ]
    }
   ],
   "source": [
    "neg_review(5)"
   ]
  },
  {
   "cell_type": "code",
   "execution_count": 146,
   "metadata": {},
   "outputs": [],
   "source": [
    "#positive reviews"
   ]
  },
  {
   "cell_type": "code",
   "execution_count": 9,
   "metadata": {},
   "outputs": [],
   "source": [
    "def pos_review(nbr):\n",
    "    list_pos = []\n",
    "    for i in range(nbr):\n",
    "        filename = random.choice(os.listdir(train_pos))\n",
    "        review = open(train_pos +'/'+ filename,\"r\", encoding=\"utf8\").read()\n",
    "        list_pos.append(review)\n",
    "        print(\"~> \" + review + \"\\n\")\n",
    "        return list_pos"
   ]
  },
  {
   "cell_type": "code",
   "execution_count": 10,
   "metadata": {
    "scrolled": false
   },
   "outputs": [
    {
     "name": "stdout",
     "output_type": "stream",
     "text": [
      "~> Yes, Shakespeare would indeed have been proud. Laurence Fishburne was not at his best but certainly not bad. Kenneth Brannagh on the other hand was brilliant. His scheming was wonderful as was his toying with the audience. Very nice work.<br /><br />There were at times too little drama where more would have been expected. Cassio's slaying, for instance, was a bit clouded by too much happening to far apart, causing the spectator to twist his head to grasp it all.<br /><br />Did I mention Michael Maloney? His madness striken Roderigo was unusual; annoying even.<br /><br />If you haven't seen Othello before, see this. If you haven't read Othello, see this. If you haven't heard Othello, see this. You do, on the other hand, do yourself a favour by reading it, seeing it acted onstage and hearing it sung too.\n",
      "\n"
     ]
    }
   ],
   "source": [
    "sample = pos_review(5)"
   ]
  },
  {
   "cell_type": "code",
   "execution_count": 11,
   "metadata": {},
   "outputs": [
    {
     "data": {
      "text/plain": [
       "\"Yes, Shakespeare would indeed have been proud. Laurence Fishburne was not at his best but certainly not bad. Kenneth Brannagh on the other hand was brilliant. His scheming was wonderful as was his toying with the audience. Very nice work.<br /><br />There were at times too little drama where more would have been expected. Cassio's slaying, for instance, was a bit clouded by too much happening to far apart, causing the spectator to twist his head to grasp it all.<br /><br />Did I mention Michael Maloney? His madness striken Roderigo was unusual; annoying even.<br /><br />If you haven't seen Othello before, see this. If you haven't read Othello, see this. If you haven't heard Othello, see this. You do, on the other hand, do yourself a favour by reading it, seeing it acted onstage and hearing it sung too.\""
      ]
     },
     "execution_count": 11,
     "metadata": {},
     "output_type": "execute_result"
    }
   ],
   "source": [
    "sample[0]"
   ]
  },
  {
   "cell_type": "markdown",
   "metadata": {},
   "source": [
    "______"
   ]
  },
  {
   "cell_type": "code",
   "execution_count": 12,
   "metadata": {},
   "outputs": [],
   "source": [
    "def preprocess(text):\n",
    "    return text.replace(\"<br />\", \" \")"
   ]
  },
  {
   "cell_type": "code",
   "execution_count": null,
   "metadata": {},
   "outputs": [],
   "source": []
  },
  {
   "cell_type": "code",
   "execution_count": 13,
   "metadata": {},
   "outputs": [
    {
     "data": {
      "text/plain": [
       "\"Yes, Shakespeare would indeed have been proud. Laurence Fishburne was not at his best but certainly not bad. Kenneth Brannagh on the other hand was brilliant. His scheming was wonderful as was his toying with the audience. Very nice work.  There were at times too little drama where more would have been expected. Cassio's slaying, for instance, was a bit clouded by too much happening to far apart, causing the spectator to twist his head to grasp it all.  Did I mention Michael Maloney? His madness striken Roderigo was unusual; annoying even.  If you haven't seen Othello before, see this. If you haven't read Othello, see this. If you haven't heard Othello, see this. You do, on the other hand, do yourself a favour by reading it, seeing it acted onstage and hearing it sung too.\""
      ]
     },
     "execution_count": 13,
     "metadata": {},
     "output_type": "execute_result"
    }
   ],
   "source": [
    "preprocess(sample[0])"
   ]
  },
  {
   "cell_type": "markdown",
   "metadata": {},
   "source": [
    "____"
   ]
  },
  {
   "cell_type": "code",
   "execution_count": 14,
   "metadata": {},
   "outputs": [],
   "source": [
    "def reviews(path):\n",
    "    list_reviews = []\n",
    "    for filename in os.listdir(path):\n",
    "        review = open(path + '/' + filename, \"r\", encoding = \"utf8\").read()\n",
    "        review  = preprocess(review)\n",
    "        list_reviews.append({'name':filename,'review':review})\n",
    "    return list_reviews"
   ]
  },
  {
   "cell_type": "code",
   "execution_count": 15,
   "metadata": {},
   "outputs": [],
   "source": [
    "test_pos_processed = reviews(test_pos)\n",
    "test_neg_processed = reviews(test_neg)\n",
    "train_pos_processed = reviews(train_pos)\n",
    "train_neg_processed = reviews(train_neg)"
   ]
  },
  {
   "cell_type": "code",
   "execution_count": 17,
   "metadata": {},
   "outputs": [],
   "source": [
    "alldata = test_pos_processed + test_neg_processed + train_pos_processed + train_neg_processed"
   ]
  },
  {
   "cell_type": "code",
   "execution_count": 9,
   "metadata": {},
   "outputs": [],
   "source": [
    "from sklearn.feature_extraction.text import TfidfVectorizer"
   ]
  },
  {
   "cell_type": "code",
   "execution_count": 19,
   "metadata": {},
   "outputs": [],
   "source": [
    "df = pd.DataFrame(alldata)"
   ]
  },
  {
   "cell_type": "code",
   "execution_count": 20,
   "metadata": {
    "scrolled": false
   },
   "outputs": [
    {
     "data": {
      "text/html": [
       "<div>\n",
       "<style scoped>\n",
       "    .dataframe tbody tr th:only-of-type {\n",
       "        vertical-align: middle;\n",
       "    }\n",
       "\n",
       "    .dataframe tbody tr th {\n",
       "        vertical-align: top;\n",
       "    }\n",
       "\n",
       "    .dataframe thead th {\n",
       "        text-align: right;\n",
       "    }\n",
       "</style>\n",
       "<table border=\"1\" class=\"dataframe\">\n",
       "  <thead>\n",
       "    <tr style=\"text-align: right;\">\n",
       "      <th></th>\n",
       "      <th>name</th>\n",
       "      <th>review</th>\n",
       "    </tr>\n",
       "  </thead>\n",
       "  <tbody>\n",
       "    <tr>\n",
       "      <th>0</th>\n",
       "      <td>0_10.txt</td>\n",
       "      <td>I went and saw this movie last night after bei...</td>\n",
       "    </tr>\n",
       "    <tr>\n",
       "      <th>1</th>\n",
       "      <td>10000_7.txt</td>\n",
       "      <td>Actor turned director Bill Paxton follows up h...</td>\n",
       "    </tr>\n",
       "    <tr>\n",
       "      <th>2</th>\n",
       "      <td>10001_9.txt</td>\n",
       "      <td>As a recreational golfer with some knowledge o...</td>\n",
       "    </tr>\n",
       "    <tr>\n",
       "      <th>3</th>\n",
       "      <td>10002_8.txt</td>\n",
       "      <td>I saw this film in a sneak preview, and it is ...</td>\n",
       "    </tr>\n",
       "    <tr>\n",
       "      <th>4</th>\n",
       "      <td>10003_8.txt</td>\n",
       "      <td>Bill Paxton has taken the true story of the 19...</td>\n",
       "    </tr>\n",
       "    <tr>\n",
       "      <th>5</th>\n",
       "      <td>10004_9.txt</td>\n",
       "      <td>I saw this film on September 1st, 2005 in Indi...</td>\n",
       "    </tr>\n",
       "    <tr>\n",
       "      <th>6</th>\n",
       "      <td>10005_8.txt</td>\n",
       "      <td>Maybe I'm reading into this too much, but I wo...</td>\n",
       "    </tr>\n",
       "    <tr>\n",
       "      <th>7</th>\n",
       "      <td>10006_7.txt</td>\n",
       "      <td>I felt this film did have many good qualities....</td>\n",
       "    </tr>\n",
       "    <tr>\n",
       "      <th>8</th>\n",
       "      <td>10007_10.txt</td>\n",
       "      <td>This movie is amazing because the fact that th...</td>\n",
       "    </tr>\n",
       "    <tr>\n",
       "      <th>9</th>\n",
       "      <td>10008_8.txt</td>\n",
       "      <td>\"Quitting\" may be as much about exiting a pre-...</td>\n",
       "    </tr>\n",
       "  </tbody>\n",
       "</table>\n",
       "</div>"
      ],
      "text/plain": [
       "           name                                             review\n",
       "0      0_10.txt  I went and saw this movie last night after bei...\n",
       "1   10000_7.txt  Actor turned director Bill Paxton follows up h...\n",
       "2   10001_9.txt  As a recreational golfer with some knowledge o...\n",
       "3   10002_8.txt  I saw this film in a sneak preview, and it is ...\n",
       "4   10003_8.txt  Bill Paxton has taken the true story of the 19...\n",
       "5   10004_9.txt  I saw this film on September 1st, 2005 in Indi...\n",
       "6   10005_8.txt  Maybe I'm reading into this too much, but I wo...\n",
       "7   10006_7.txt  I felt this film did have many good qualities....\n",
       "8  10007_10.txt  This movie is amazing because the fact that th...\n",
       "9   10008_8.txt  \"Quitting\" may be as much about exiting a pre-..."
      ]
     },
     "execution_count": 20,
     "metadata": {},
     "output_type": "execute_result"
    }
   ],
   "source": [
    "df.head(10)"
   ]
  },
  {
   "cell_type": "markdown",
   "metadata": {},
   "source": [
    "*In the labeled train/test sets, a negative review has a score **<= 4 out of 10**,\n",
    "and a positive review has a score **>= 7 out of 10**.\n",
    "Thus reviews with more neutral ratings are not included in the train/test sets. In the\n",
    "unsupervised set, reviews of any rating are included and there are an even number of reviews **> 5 and <= 5**.*"
   ]
  },
  {
   "cell_type": "code",
   "execution_count": 21,
   "metadata": {},
   "outputs": [],
   "source": [
    "df[\"rate\"] = df[\"name\"]"
   ]
  },
  {
   "cell_type": "code",
   "execution_count": 22,
   "metadata": {},
   "outputs": [
    {
     "data": {
      "text/html": [
       "<div>\n",
       "<style scoped>\n",
       "    .dataframe tbody tr th:only-of-type {\n",
       "        vertical-align: middle;\n",
       "    }\n",
       "\n",
       "    .dataframe tbody tr th {\n",
       "        vertical-align: top;\n",
       "    }\n",
       "\n",
       "    .dataframe thead th {\n",
       "        text-align: right;\n",
       "    }\n",
       "</style>\n",
       "<table border=\"1\" class=\"dataframe\">\n",
       "  <thead>\n",
       "    <tr style=\"text-align: right;\">\n",
       "      <th></th>\n",
       "      <th>name</th>\n",
       "      <th>review</th>\n",
       "      <th>rate</th>\n",
       "    </tr>\n",
       "  </thead>\n",
       "  <tbody>\n",
       "    <tr>\n",
       "      <th>0</th>\n",
       "      <td>0_10.txt</td>\n",
       "      <td>I went and saw this movie last night after bei...</td>\n",
       "      <td>0_10.txt</td>\n",
       "    </tr>\n",
       "    <tr>\n",
       "      <th>1</th>\n",
       "      <td>10000_7.txt</td>\n",
       "      <td>Actor turned director Bill Paxton follows up h...</td>\n",
       "      <td>10000_7.txt</td>\n",
       "    </tr>\n",
       "    <tr>\n",
       "      <th>2</th>\n",
       "      <td>10001_9.txt</td>\n",
       "      <td>As a recreational golfer with some knowledge o...</td>\n",
       "      <td>10001_9.txt</td>\n",
       "    </tr>\n",
       "    <tr>\n",
       "      <th>3</th>\n",
       "      <td>10002_8.txt</td>\n",
       "      <td>I saw this film in a sneak preview, and it is ...</td>\n",
       "      <td>10002_8.txt</td>\n",
       "    </tr>\n",
       "    <tr>\n",
       "      <th>4</th>\n",
       "      <td>10003_8.txt</td>\n",
       "      <td>Bill Paxton has taken the true story of the 19...</td>\n",
       "      <td>10003_8.txt</td>\n",
       "    </tr>\n",
       "  </tbody>\n",
       "</table>\n",
       "</div>"
      ],
      "text/plain": [
       "          name                                             review         rate\n",
       "0     0_10.txt  I went and saw this movie last night after bei...     0_10.txt\n",
       "1  10000_7.txt  Actor turned director Bill Paxton follows up h...  10000_7.txt\n",
       "2  10001_9.txt  As a recreational golfer with some knowledge o...  10001_9.txt\n",
       "3  10002_8.txt  I saw this film in a sneak preview, and it is ...  10002_8.txt\n",
       "4  10003_8.txt  Bill Paxton has taken the true story of the 19...  10003_8.txt"
      ]
     },
     "execution_count": 22,
     "metadata": {},
     "output_type": "execute_result"
    }
   ],
   "source": [
    "df.head()"
   ]
  },
  {
   "cell_type": "code",
   "execution_count": 23,
   "metadata": {},
   "outputs": [],
   "source": [
    "import re"
   ]
  },
  {
   "cell_type": "code",
   "execution_count": 24,
   "metadata": {},
   "outputs": [],
   "source": [
    "#supprimer tout entre _ et .\n",
    "def create_rate(col):\n",
    "    res = np.array([])\n",
    "    for row in col:\n",
    "        row = re.findall('[_][0-9]{1,2}', row)[0]\n",
    "        row = re.findall('[0-9]{1,2}', row)[0]\n",
    "        res = np.append(res,row)\n",
    "    return res"
   ]
  },
  {
   "cell_type": "code",
   "execution_count": 25,
   "metadata": {},
   "outputs": [],
   "source": [
    "rating = create_rate(df.rate)"
   ]
  },
  {
   "cell_type": "code",
   "execution_count": 26,
   "metadata": {},
   "outputs": [],
   "source": [
    "df['rating'] = rating"
   ]
  },
  {
   "cell_type": "code",
   "execution_count": 29,
   "metadata": {},
   "outputs": [
    {
     "data": {
      "text/html": [
       "<div>\n",
       "<style scoped>\n",
       "    .dataframe tbody tr th:only-of-type {\n",
       "        vertical-align: middle;\n",
       "    }\n",
       "\n",
       "    .dataframe tbody tr th {\n",
       "        vertical-align: top;\n",
       "    }\n",
       "\n",
       "    .dataframe thead th {\n",
       "        text-align: right;\n",
       "    }\n",
       "</style>\n",
       "<table border=\"1\" class=\"dataframe\">\n",
       "  <thead>\n",
       "    <tr style=\"text-align: right;\">\n",
       "      <th></th>\n",
       "      <th>name</th>\n",
       "      <th>review</th>\n",
       "      <th>rating</th>\n",
       "    </tr>\n",
       "  </thead>\n",
       "  <tbody>\n",
       "    <tr>\n",
       "      <th>0</th>\n",
       "      <td>0_10.txt</td>\n",
       "      <td>I went and saw this movie last night after bei...</td>\n",
       "      <td>10</td>\n",
       "    </tr>\n",
       "    <tr>\n",
       "      <th>1</th>\n",
       "      <td>10000_7.txt</td>\n",
       "      <td>Actor turned director Bill Paxton follows up h...</td>\n",
       "      <td>7</td>\n",
       "    </tr>\n",
       "    <tr>\n",
       "      <th>2</th>\n",
       "      <td>10001_9.txt</td>\n",
       "      <td>As a recreational golfer with some knowledge o...</td>\n",
       "      <td>9</td>\n",
       "    </tr>\n",
       "    <tr>\n",
       "      <th>3</th>\n",
       "      <td>10002_8.txt</td>\n",
       "      <td>I saw this film in a sneak preview, and it is ...</td>\n",
       "      <td>8</td>\n",
       "    </tr>\n",
       "    <tr>\n",
       "      <th>4</th>\n",
       "      <td>10003_8.txt</td>\n",
       "      <td>Bill Paxton has taken the true story of the 19...</td>\n",
       "      <td>8</td>\n",
       "    </tr>\n",
       "  </tbody>\n",
       "</table>\n",
       "</div>"
      ],
      "text/plain": [
       "          name                                             review rating\n",
       "0     0_10.txt  I went and saw this movie last night after bei...     10\n",
       "1  10000_7.txt  Actor turned director Bill Paxton follows up h...      7\n",
       "2  10001_9.txt  As a recreational golfer with some knowledge o...      9\n",
       "3  10002_8.txt  I saw this film in a sneak preview, and it is ...      8\n",
       "4  10003_8.txt  Bill Paxton has taken the true story of the 19...      8"
      ]
     },
     "execution_count": 29,
     "metadata": {},
     "output_type": "execute_result"
    }
   ],
   "source": [
    "df.head()"
   ]
  },
  {
   "cell_type": "code",
   "execution_count": 28,
   "metadata": {},
   "outputs": [],
   "source": [
    "df = df.drop(columns = \"rate\", axis = 1)"
   ]
  },
  {
   "cell_type": "code",
   "execution_count": 2,
   "metadata": {},
   "outputs": [
    {
     "ename": "NameError",
     "evalue": "name 'df' is not defined",
     "output_type": "error",
     "traceback": [
      "\u001b[1;31m---------------------------------------------------------------------------\u001b[0m",
      "\u001b[1;31mNameError\u001b[0m                                 Traceback (most recent call last)",
      "\u001b[1;32m<ipython-input-2-58b1b4cd3d24>\u001b[0m in \u001b[0;36m<module>\u001b[1;34m\u001b[0m\n\u001b[1;32m----> 1\u001b[1;33m \u001b[0mdf\u001b[0m\u001b[1;33m.\u001b[0m\u001b[0mto_csv\u001b[0m\u001b[1;33m(\u001b[0m\u001b[1;34mr'C:\\Users\\amnad\\Documents\\DATA_IA\\PYTHON\\NLP\\File_Name.csv'\u001b[0m\u001b[1;33m)\u001b[0m\u001b[1;33m\u001b[0m\u001b[1;33m\u001b[0m\u001b[0m\n\u001b[0m",
      "\u001b[1;31mNameError\u001b[0m: name 'df' is not defined"
     ]
    }
   ],
   "source": [
    "df.to_csv(r'C:\\Users\\amnad\\Documents\\DATA_IA\\PYTHON\\NLP\\File_Name.csv')"
   ]
  },
  {
   "cell_type": "code",
   "execution_count": 7,
   "metadata": {},
   "outputs": [],
   "source": [
    "clean_df = pd.read_csv(\"File_Name.csv\") "
   ]
  },
  {
   "cell_type": "code",
   "execution_count": 14,
   "metadata": {},
   "outputs": [],
   "source": [
    "corpus = clean_df[\"review\"]"
   ]
  },
  {
   "cell_type": "code",
   "execution_count": 15,
   "metadata": {},
   "outputs": [],
   "source": [
    "corpus = list(corpus)"
   ]
  },
  {
   "cell_type": "code",
   "execution_count": 23,
   "metadata": {},
   "outputs": [],
   "source": [
    "vectorizer = TfidfVectorizer()\n",
    "matrix = vectorizer.fit_transform(corpus) #Learn vocabulary and idf, return term-document matrix.\n",
    "#print(matrix)"
   ]
  },
  {
   "cell_type": "code",
   "execution_count": 17,
   "metadata": {},
   "outputs": [],
   "source": [
    "from sklearn.model_selection import train_test_split\n",
    "from sklearn.linear_model import LogisticRegression"
   ]
  },
  {
   "cell_type": "code",
   "execution_count": 24,
   "metadata": {},
   "outputs": [
    {
     "data": {
      "text/plain": [
       "(50000, 101895)"
      ]
     },
     "execution_count": 24,
     "metadata": {},
     "output_type": "execute_result"
    }
   ],
   "source": [
    "matrix.shape"
   ]
  },
  {
   "cell_type": "code",
   "execution_count": 26,
   "metadata": {},
   "outputs": [],
   "source": [
    "y = (clean_df['rating']>=7).astype('int')"
   ]
  },
  {
   "cell_type": "code",
   "execution_count": 27,
   "metadata": {},
   "outputs": [],
   "source": [
    "X_train, X_test, y_train, y_test = train_test_split(matrix, y, test_size=0.33, random_state=42)"
   ]
  },
  {
   "cell_type": "code",
   "execution_count": 28,
   "metadata": {},
   "outputs": [],
   "source": [
    "lg = LogisticRegression()"
   ]
  },
  {
   "cell_type": "code",
   "execution_count": 29,
   "metadata": {},
   "outputs": [
    {
     "name": "stderr",
     "output_type": "stream",
     "text": [
      "c:\\users\\amnad\\appdata\\local\\programs\\python\\python37\\lib\\site-packages\\sklearn\\linear_model\\logistic.py:433: FutureWarning: Default solver will be changed to 'lbfgs' in 0.22. Specify a solver to silence this warning.\n",
      "  FutureWarning)\n"
     ]
    },
    {
     "data": {
      "text/plain": [
       "LogisticRegression(C=1.0, class_weight=None, dual=False, fit_intercept=True,\n",
       "          intercept_scaling=1, max_iter=100, multi_class='warn',\n",
       "          n_jobs=None, penalty='l2', random_state=None, solver='warn',\n",
       "          tol=0.0001, verbose=0, warm_start=False)"
      ]
     },
     "execution_count": 29,
     "metadata": {},
     "output_type": "execute_result"
    }
   ],
   "source": [
    "lg.fit(X_train,y_train)"
   ]
  },
  {
   "cell_type": "code",
   "execution_count": 30,
   "metadata": {},
   "outputs": [
    {
     "data": {
      "text/plain": [
       "(0.9335223880597014, 0.8930303030303031)"
      ]
     },
     "execution_count": 30,
     "metadata": {},
     "output_type": "execute_result"
    }
   ],
   "source": [
    "lg.score(X_train, y_train), lg.score(X_test, y_test)"
   ]
  },
  {
   "cell_type": "markdown",
   "metadata": {},
   "source": [
    "**Faire pareil avec un Fully connected layer en Keras.**"
   ]
  },
  {
   "cell_type": "code",
   "execution_count": 33,
   "metadata": {},
   "outputs": [
    {
     "name": "stderr",
     "output_type": "stream",
     "text": [
      "Using TensorFlow backend.\n"
     ]
    }
   ],
   "source": [
    "from keras.utils import to_categorical\n",
    "from keras import models\n",
    "from keras import layers"
   ]
  },
  {
   "cell_type": "code",
   "execution_count": 31,
   "metadata": {},
   "outputs": [
    {
     "data": {
      "text/plain": [
       "101895"
      ]
     },
     "execution_count": 31,
     "metadata": {},
     "output_type": "execute_result"
    }
   ],
   "source": [
    "dim = (X_train).shape[1]\n",
    "dim"
   ]
  },
  {
   "cell_type": "code",
   "execution_count": 40,
   "metadata": {},
   "outputs": [
    {
     "name": "stdout",
     "output_type": "stream",
     "text": [
      "_________________________________________________________________\n",
      "Layer (type)                 Output Shape              Param #   \n",
      "=================================================================\n",
      "dense_10 (Dense)             (None, 50)                5094800   \n",
      "_________________________________________________________________\n",
      "dropout_6 (Dropout)          (None, 50)                0         \n",
      "_________________________________________________________________\n",
      "dense_11 (Dense)             (None, 50)                2550      \n",
      "_________________________________________________________________\n",
      "dropout_7 (Dropout)          (None, 50)                0         \n",
      "_________________________________________________________________\n",
      "dense_12 (Dense)             (None, 50)                2550      \n",
      "_________________________________________________________________\n",
      "dense_13 (Dense)             (None, 1)                 51        \n",
      "=================================================================\n",
      "Total params: 5,099,951\n",
      "Trainable params: 5,099,951\n",
      "Non-trainable params: 0\n",
      "_________________________________________________________________\n"
     ]
    }
   ],
   "source": [
    "model = models.Sequential()\n",
    "#input\n",
    "model.add(layers.Dense(50, activation = \"relu\", input_shape=(dim, )))\n",
    "# Hidden - Layers\n",
    "model.add(layers.Dropout(0.3))\n",
    "model.add(layers.Dense(50, activation = \"relu\"))\n",
    "model.add(layers.Dropout(0.3))\n",
    "model.add(layers.Dense(50, activation = \"relu\"))\n",
    "# Output- Layer\n",
    "model.add(layers.Dense(1, activation = \"sigmoid\"))\n",
    "model.summary()"
   ]
  },
  {
   "cell_type": "code",
   "execution_count": 43,
   "metadata": {},
   "outputs": [],
   "source": [
    "model.compile(optimizer = \"adam\", loss = \"binary_crossentropy\", metrics = [\"accuracy\"])"
   ]
  },
  {
   "cell_type": "code",
   "execution_count": 44,
   "metadata": {},
   "outputs": [
    {
     "name": "stdout",
     "output_type": "stream",
     "text": [
      "Train on 33500 samples, validate on 16500 samples\n",
      "Epoch 1/2\n",
      "33500/33500 [==============================] - 45s 1ms/step - loss: 0.0692 - acc: 0.9793 - val_loss: 0.3133 - val_acc: 0.8976\n",
      "Epoch 2/2\n",
      "33500/33500 [==============================] - 44s 1ms/step - loss: 0.0330 - acc: 0.9907 - val_loss: 0.4036 - val_acc: 0.8942\n"
     ]
    }
   ],
   "source": [
    "results = model.fit(X_train, y_train, epochs = 2, batch_size = 500, validation_data = (X_test, y_test))"
   ]
  }
 ],
 "metadata": {
  "kernelspec": {
   "display_name": "Python 3",
   "language": "python",
   "name": "python3"
  },
  "language_info": {
   "codemirror_mode": {
    "name": "ipython",
    "version": 3
   },
   "file_extension": ".py",
   "mimetype": "text/x-python",
   "name": "python",
   "nbconvert_exporter": "python",
   "pygments_lexer": "ipython3",
   "version": "3.7.2"
  }
 },
 "nbformat": 4,
 "nbformat_minor": 2
}
